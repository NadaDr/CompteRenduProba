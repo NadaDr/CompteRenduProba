{
 "cells": [
  {
   "cell_type": "markdown",
   "id": "7cbe7e19",
   "metadata": {},
   "source": [
    "# Nada Dridi"
   ]
  },
  {
   "cell_type": "markdown",
   "id": "2d4fc350",
   "metadata": {},
   "source": [
    "# Rock paper Scissor\n",
    "\n",
    "<img src=\"rps.jpg\"\n",
    "     alt=\"Markdown Monster icon\"\n",
    "     style=\"float: left; margin-right: 10px\"\n",
    "     width =\"280px;\"/>\n",
    "\n",
    "\n",
    "## Priciple\n",
    ">A player who decides to play rock will beat another player who has chosen **scissors** (\"rock crushes scissors\" or \"breaks scissors\" or sometimes \"blunts scissors\"), but will lose to one who has played **paper** (\"paper covers rock\"); a play of paper will lose to a play of **scissors** (\"scissors cuts paper\")."
   ]
  },
  {
   "cell_type": "markdown",
   "id": "882cbeed",
   "metadata": {},
   "source": [
    "## 1. Coding the game\n",
    "\n",
    "Write a **python** code to simulate the **rock paper scissor game**. "
   ]
  },
  {
   "cell_type": "code",
   "execution_count": null,
   "id": "15f50727",
   "metadata": {},
   "outputs": [],
   "source": [
    "import numpy as np\n",
    "import pandas as pd"
   ]
  },
  {
   "cell_type": "code",
   "execution_count": null,
   "id": "05217608",
   "metadata": {},
   "outputs": [],
   "source": [
    "def choisir():\n",
    "    return np.random.choice([\"rock\", \"paper\", \"scissors\"], replace=True)"
   ]
  },
  {
   "cell_type": "code",
   "execution_count": 3,
   "id": "9a8e7c95",
   "metadata": {},
   "outputs": [],
   "source": [
    "def sim(k = 100):\n",
    "    gains = []\n",
    "\n",
    "    player_1_gain = 0\n",
    "    player_2_gain = 0\n",
    "    \n",
    "    for _ in range(k):\n",
    "        player1 = choisir()\n",
    "        player2 = choisir()\n",
    "        \n",
    "        if player1 == player2:\n",
    "            player_1_gain, player_2_gain = 0, 0\n",
    "\n",
    "        elif (player1 == \"rock\" and player2 == \"scissors\") or (player1 == \"paper\" and player2 == \"rock\") or (player1 == \"scissors\" and player2 == \"paper\"):\n",
    "            player_1_gain, player_2_gain = 1, -1\n",
    "\n",
    "        else: \n",
    "            player_1_gain, player_2_gain = -1, 1\n",
    "\n",
    "        gains.append((player_1_gain, player_2_gain))\n",
    "        \n",
    "    return gains"
   ]
  },
  {
   "cell_type": "markdown",
   "id": "6ae0cee6",
   "metadata": {},
   "source": [
    "## What is the probability of winning ? to loose ? to make a draw ??"
   ]
  },
  {
   "cell_type": "code",
   "execution_count": 9,
   "id": "3819ff28",
   "metadata": {},
   "outputs": [],
   "source": [
    "k = 100000\n",
    "l = sim(k)"
   ]
  },
  {
   "cell_type": "code",
   "execution_count": 16,
   "id": "74213802",
   "metadata": {},
   "outputs": [
    {
     "data": {
      "text/html": [
       "<div>\n",
       "<style scoped>\n",
       "    .dataframe tbody tr th:only-of-type {\n",
       "        vertical-align: middle;\n",
       "    }\n",
       "\n",
       "    .dataframe tbody tr th {\n",
       "        vertical-align: top;\n",
       "    }\n",
       "\n",
       "    .dataframe thead th {\n",
       "        text-align: right;\n",
       "    }\n",
       "</style>\n",
       "<table border=\"1\" class=\"dataframe\">\n",
       "  <thead>\n",
       "    <tr style=\"text-align: right;\">\n",
       "      <th></th>\n",
       "      <th>counts</th>\n",
       "      <th>Freq</th>\n",
       "      <th>p(gain[i])</th>\n",
       "    </tr>\n",
       "    <tr>\n",
       "      <th>gains</th>\n",
       "      <th></th>\n",
       "      <th></th>\n",
       "      <th></th>\n",
       "    </tr>\n",
       "  </thead>\n",
       "  <tbody>\n",
       "    <tr>\n",
       "      <th>losses</th>\n",
       "      <td>66965</td>\n",
       "      <td>0.66965</td>\n",
       "      <td>0.65</td>\n",
       "    </tr>\n",
       "    <tr>\n",
       "      <th>draws</th>\n",
       "      <td>66070</td>\n",
       "      <td>0.66070</td>\n",
       "      <td>0.65</td>\n",
       "    </tr>\n",
       "    <tr>\n",
       "      <th>wins</th>\n",
       "      <td>66965</td>\n",
       "      <td>0.66965</td>\n",
       "      <td>0.65</td>\n",
       "    </tr>\n",
       "  </tbody>\n",
       "</table>\n",
       "</div>"
      ],
      "text/plain": [
       "        counts     Freq  p(gain[i])\n",
       "gains                              \n",
       "losses   66965  0.66965        0.65\n",
       "draws    66070  0.66070        0.65\n",
       "wins     66965  0.66965        0.65"
      ]
     },
     "execution_count": 16,
     "metadata": {},
     "output_type": "execute_result"
    }
   ],
   "source": [
    "unique, counts = np.unique(l, return_counts=True)\n",
    "unique = [\"losses\", \"draws\", \"wins\"]\n",
    "dic = dict(zip(unique, counts))\n",
    "df = pd.DataFrame(list(dic.items()), columns = ['gains', \"counts\"])\n",
    "df.set_index(['gains'], inplace = True)\n",
    "df['Freq'] = df['counts'] / k\n",
    "df['p(gain[i])'] = float('{:.4f}'.format(65/100))\n",
    "df"
   ]
  }
 ],
 "metadata": {
  "kernelspec": {
   "display_name": "Python 3.10.2 64-bit",
   "language": "python",
   "name": "python3"
  },
  "language_info": {
   "codemirror_mode": {
    "name": "ipython",
    "version": 3
   },
   "file_extension": ".py",
   "mimetype": "text/x-python",
   "name": "python",
   "nbconvert_exporter": "python",
   "pygments_lexer": "ipython3",
   "version": "3.10.2 (tags/v3.10.2:a58ebcc, Jan 17 2022, 14:12:15) [MSC v.1929 64 bit (AMD64)]"
  },
  "vscode": {
   "interpreter": {
    "hash": "9d36a30580627d54739c3a2eaabe728c6411477a0069d5b98055284e62e500aa"
   }
  }
 },
 "nbformat": 4,
 "nbformat_minor": 5
}
